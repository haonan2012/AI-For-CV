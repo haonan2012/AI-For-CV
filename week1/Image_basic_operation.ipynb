{
 "cells": [
  {
   "cell_type": "markdown",
   "metadata": {},
   "source": [
    "# 使用opencv读取并显示图片"
   ]
  },
  {
   "cell_type": "markdown",
   "metadata": {},
   "source": [
    "示例图片如下(1.jpg)："
   ]
  },
  {
   "cell_type": "markdown",
   "metadata": {},
   "source": [
    "![sample_img](1.jpg)"
   ]
  },
  {
   "cell_type": "code",
   "execution_count": 39,
   "metadata": {
    "collapsed": true
   },
   "outputs": [],
   "source": [
    "import cv2\n",
    "import random\n",
    "import numpy as np"
   ]
  },
  {
   "cell_type": "code",
   "execution_count": 5,
   "metadata": {},
   "outputs": [],
   "source": [
    "img = cv2.imread('1.jpg') #读取原图\n",
    "img_gray = cv2.imread('1.jpg', 0) #读取灰度图"
   ]
  },
  {
   "cell_type": "code",
   "execution_count": 30,
   "metadata": {},
   "outputs": [
    {
     "name": "stdout",
     "output_type": "stream",
     "text": [
      "<class 'numpy.ndarray'>\n",
      "[[  6   6   6 ...,   6   6   6]\n",
      " [  6   6   6 ...,   6   6   6]\n",
      " [  6   6   6 ...,   6   6   6]\n",
      " ..., \n",
      " [102  85  87 ...,  90  90  90]\n",
      " [104  86  86 ...,  90  90  90]\n",
      " [105  86  85 ...,  90  90  90]]\n"
     ]
    }
   ],
   "source": [
    "# 灰度图和彩色图分别读取为二维和三维numpy数组\n",
    "print(type(img)) \n",
    "print(img_gray) "
   ]
  },
  {
   "cell_type": "code",
   "execution_count": 7,
   "metadata": {},
   "outputs": [
    {
     "name": "stdout",
     "output_type": "stream",
     "text": [
      "shape of img is (480, 640, 3)\n",
      "shape of img_gray is (480, 640)\n",
      "uint8\n"
     ]
    }
   ],
   "source": [
    "# 数组大小及数据格式\n",
    "print('shape of img is {}'.format(img.shape))    # h, w, c\n",
    "print('shape of img_gray is {}'.format(img_gray.shape))\n",
    "print(img.dtype)  # show image data type"
   ]
  },
  {
   "cell_type": "code",
   "execution_count": 31,
   "metadata": {},
   "outputs": [],
   "source": [
    "# 显示图片\n",
    "cv2.imshow('img_gray', img_gray)\n",
    "cv2.imshow('img', img)\n",
    "cv2.waitKey(0)\n",
    "cv2.destroyAllWindows()"
   ]
  },
  {
   "cell_type": "code",
   "execution_count": 25,
   "metadata": {},
   "outputs": [
    {
     "data": {
      "text/plain": [
       "True"
      ]
     },
     "execution_count": 25,
     "metadata": {},
     "output_type": "execute_result"
    }
   ],
   "source": [
    "# 保存图片\n",
    "cv2.imwrite('image_gray.jpg', img_gray)"
   ]
  },
  {
   "cell_type": "code",
   "execution_count": 29,
   "metadata": {},
   "outputs": [],
   "source": [
    "# image crop\n",
    "img_crop = img[:200, :400]\n",
    "cv2.imshow('img_crop', img_crop)\n",
    "cv2.waitKey(0)\n",
    "cv2.destroyAllWindows()"
   ]
  },
  {
   "cell_type": "code",
   "execution_count": 32,
   "metadata": {
    "collapsed": true
   },
   "outputs": [],
   "source": [
    "# channel split\n",
    "B, G, R = cv2.split(img)  # opencv读取彩色图片为BGR格式\n",
    "cv2.imshow('B', B)\n",
    "cv2.imshow('G', G)\n",
    "cv2.imshow('R', R)\n",
    "cv2.waitKey(0)\n",
    "cv2.destroyAllWindows()"
   ]
  },
  {
   "cell_type": "markdown",
   "metadata": {},
   "source": [
    "# 改变图片颜色"
   ]
  },
  {
   "cell_type": "code",
   "execution_count": 35,
   "metadata": {
    "collapsed": true
   },
   "outputs": [],
   "source": [
    "# change color\n",
    "def random_light_color(img):\n",
    "    # brightness\n",
    "    B, G, R = cv2.split(img)\n",
    "    \n",
    "    for C in [B,G,R]:\n",
    "        rand_shift = random.randint(-50, 50)\n",
    "        if rand_shift == 0:\n",
    "            pass\n",
    "        elif rand_shift > 0:\n",
    "            lim = 255 - rand_shift\n",
    "            C[C > lim] = 255\n",
    "            C[C <= lim] = (rand_shift + C[C <= lim]).astype(img.dtype)\n",
    "        elif rand_shift < 0:\n",
    "            lim = 0 - rand_shift\n",
    "            C[C < lim] = 0\n",
    "            C[C >= lim] = (rand_shift + C[C >= lim]).astype(img.dtype)\n",
    "    img_merge = cv2.merge((B, G, R))\n",
    "    return img_merge"
   ]
  },
  {
   "cell_type": "code",
   "execution_count": 42,
   "metadata": {
    "collapsed": true
   },
   "outputs": [],
   "source": [
    "# change color 2 在YUV空间改变图片颜色\n",
    "def random_color_yuv(img):\n",
    "    img_yuv = cv2.cvtColor(img, cv2.COLOR_BGR2YUV) # 改变颜色空间 从BGR到YUV\n",
    "    y,u,v = cv2.split(img_yuv)\n",
    "\n",
    "    for c in [y,u,v]:\n",
    "        rand_shift = random.randint(-50, 50)\n",
    "        c[c > 255 - rand_shift] = 255 - rand_shift\n",
    "        c[c < -rand_shift] = -rand_shift\n",
    "        c[:] = c[:] + rand_shift\n",
    "\n",
    "    img_merge = cv2.merge((y,u,v))\n",
    "    img_bgr = cv2.cvtColor(img_merge, cv2.COLOR_YUV2BGR)\n",
    "    return img_bgr"
   ]
  },
  {
   "cell_type": "code",
   "execution_count": 38,
   "metadata": {},
   "outputs": [],
   "source": [
    "img_random_color = random_light_color(img)\n",
    "cv2.imshow('img_ori', img)\n",
    "cv2.imshow('img_random_color', img_random_color)\n",
    "cv2.waitKey(0)\n",
    "cv2.destroyAllWindows()"
   ]
  },
  {
   "cell_type": "code",
   "execution_count": 45,
   "metadata": {
    "collapsed": true
   },
   "outputs": [],
   "source": [
    "img_random_color = random_color_yuv(img)\n",
    "cv2.imshow('img_ori', img)\n",
    "cv2.imshow('img_random_color', img_random_color)\n",
    "cv2.waitKey(0)\n",
    "cv2.destroyAllWindows()"
   ]
  },
  {
   "cell_type": "markdown",
   "metadata": {},
   "source": [
    "# 伽马校正"
   ]
  },
  {
   "cell_type": "code",
   "execution_count": 46,
   "metadata": {
    "collapsed": true
   },
   "outputs": [],
   "source": [
    "# 可改变图像对比度\n",
    "# gamma correction\n",
    "def adjust_gamma(img, gamma=1.0):\n",
    "    invGamma = 1.0/gamma\n",
    "    table = [ ((i / 255.0) ** invGamma) * 255 for i in range(256)]  # 构建映射表，以提升计算速度\n",
    "    table = np.array(table, dtype = 'uint8')\n",
    "    return cv2.LUT(img, table)"
   ]
  },
  {
   "cell_type": "code",
   "execution_count": 47,
   "metadata": {
    "collapsed": true
   },
   "outputs": [],
   "source": [
    "img_brighter = adjust_gamma(img, 2)  # 通过改变gamma值提升亮度\n",
    "cv2.imshow('img_ori', img)\n",
    "cv2.imshow('img_brighter', img_brighter)\n",
    "cv2.waitKey(0)\n",
    "cv2.destroyAllWindows()"
   ]
  },
  {
   "cell_type": "markdown",
   "metadata": {},
   "source": [
    "# 图像直方图及直方图均衡化"
   ]
  },
  {
   "cell_type": "code",
   "execution_count": 66,
   "metadata": {},
   "outputs": [
    {
     "data": {
      "image/png": "[encoded data removed]",
      "text/plain": [
       "<matplotlib.figure.Figure at 0x20105e04588>"
      ]
     },
     "metadata": {},
     "output_type": "display_data"
    }
   ],
   "source": [
    "# histogram 图像灰度值的分布\n",
    "from matplotlib import pyplot as plt\n",
    "plt.figure(1)\n",
    "plt.title('histogram of the original image')\n",
    "plt.hist(img.flatten(), bins=256, range = [0,256], normed=1)\n",
    "plt.show()"
   ]
  },
  {
   "cell_type": "code",
   "execution_count": 67,
   "metadata": {},
   "outputs": [
    {
     "data": {
      "image/png": "[encoded data removed]",
      "text/plain": [
       "<matplotlib.figure.Figure at 0x20105b7c908>"
      ]
     },
     "metadata": {},
     "output_type": "display_data"
    }
   ],
   "source": [
    "# 三个通道的直方图\n",
    "plt.figure(1)\n",
    "plt.hist(img[:,:,0].flatten(), bins=256, range = [0,256], normed=1, color='b', histtype  = 'step')\n",
    "plt.hist(img[:,:,1].flatten(), bins=256, range = [0,256], normed=1, color='g', histtype  = 'step')\n",
    "plt.hist(img[:,:,2].flatten(), bins=256, range = [0,256], normed=1, color='r', histtype  = 'step')\n",
    "plt.title('histogram of the original image')\n",
    "plt.show()"
   ]
  },
  {
   "cell_type": "markdown",
   "metadata": {},
   "source": [
    "BGR三个通道分别进行直方图均衡化"
   ]
  },
  {
   "cell_type": "code",
   "execution_count": 69,
   "metadata": {
    "collapsed": true
   },
   "outputs": [],
   "source": [
    "# equalize the histogram of the b, g, r channel respectively\n",
    "b, g, r = cv2.split(img)\n",
    "bh = cv2.equalizeHist(b)\n",
    "gh = cv2.equalizeHist(g)\n",
    "rh = cv2.equalizeHist(r)\n",
    "img_equHist = cv2.merge((bh, gh, rh))\n",
    "\n",
    "cv2.imshow('img_ori', img)\n",
    "cv2.imshow('Histogram equalized', img_equHist)\n",
    "cv2.waitKey(0)\n",
    "cv2.destroyAllWindows()"
   ]
  },
  {
   "cell_type": "code",
   "execution_count": 71,
   "metadata": {},
   "outputs": [
    {
     "data": {
      "image/png": "[encoded data removed]",
      "text/plain": [
       "<matplotlib.figure.Figure at 0x201069eb780>"
      ]
     },
     "metadata": {},
     "output_type": "display_data"
    }
   ],
   "source": [
    "plt.figure(1)\n",
    "plt.title('histogram of the equalized image')\n",
    "plt.hist(img_equHist.flatten(), bins=256, range = [0,256], normed=1)\n",
    "plt.show()"
   ]
  },
  {
   "cell_type": "code",
   "execution_count": 75,
   "metadata": {},
   "outputs": [
    {
     "data": {
      "image/png": "[encoded data removed]",
      "text/plain": [
       "<matplotlib.figure.Figure at 0x201057412b0>"
      ]
     },
     "metadata": {},
     "output_type": "display_data"
    }
   ],
   "source": [
    "plt.figure(1)\n",
    "plt.title('histogram of the equalized image')\n",
    "plt.hist(img_equHist[:,:,0].flatten(), bins=256, range = [0,256], normed=1, color='b', histtype  = 'step')\n",
    "plt.hist(img_equHist[:,:,1].flatten(), bins=256, range = [0,256], normed=1, color='g', histtype  = 'step')\n",
    "plt.hist(img_equHist[:,:,2].flatten(), bins=256, range = [0,256], normed=1, color='r', histtype  = 'step')\n",
    "plt.show()"
   ]
  },
  {
   "cell_type": "markdown",
   "metadata": {},
   "source": [
    "在YUV空间进行直方图均衡化（Y通道代表灰度值）"
   ]
  },
  {
   "cell_type": "code",
   "execution_count": 76,
   "metadata": {
    "collapsed": true
   },
   "outputs": [],
   "source": [
    "# equalize the histogram of the Y channel, YUV format\n",
    "img_yuv = cv2.cvtColor(img, cv2.COLOR_BGR2YUV)\n",
    "img_yuv[:,:,0] = cv2.equalizeHist(img_yuv[:,:,0])\n",
    "img_equHist = cv2.cvtColor(img_yuv, cv2.COLOR_YUV2BGR)\n",
    "\n",
    "cv2.imshow('img_ori', img)\n",
    "cv2.imshow('Histogram equalized', img_equHist)\n",
    "cv2.waitKey(0)\n",
    "cv2.destroyAllWindows()"
   ]
  },
  {
   "cell_type": "code",
   "execution_count": 77,
   "metadata": {},
   "outputs": [
    {
     "data": {
      "image/png": "[encoded data removed]",
      "text/plain": [
       "<matplotlib.figure.Figure at 0x20103685eb8>"
      ]
     },
     "metadata": {},
     "output_type": "display_data"
    }
   ],
   "source": [
    "plt.figure(1)\n",
    "plt.title('histogram of the equalized image')\n",
    "plt.hist(img_equHist.flatten(), bins=256, range = [0,256], normed=1)\n",
    "plt.show()"
   ]
  },
  {
   "cell_type": "code",
   "execution_count": 78,
   "metadata": {},
   "outputs": [
    {
     "data": {
      "image/png": "[encoded data removed]",
      "text/plain": [
       "<matplotlib.figure.Figure at 0x20106a19710>"
      ]
     },
     "metadata": {},
     "output_type": "display_data"
    }
   ],
   "source": [
    "plt.figure(1)\n",
    "plt.title('histogram of the equalized image')\n",
    "plt.hist(img_equHist[:,:,0].flatten(), bins=256, range = [0,256], normed=1, color='b', histtype  = 'step')\n",
    "plt.hist(img_equHist[:,:,1].flatten(), bins=256, range = [0,256], normed=1, color='g', histtype  = 'step')\n",
    "plt.hist(img_equHist[:,:,2].flatten(), bins=256, range = [0,256], normed=1, color='r', histtype  = 'step')\n",
    "plt.show()"
   ]
  },
  {
   "cell_type": "markdown",
   "metadata": {},
   "source": [
    "# 图片变换： 仿射变换、投影变换"
   ]
  },
  {
   "attachments": {},
   "cell_type": "markdown",
   "metadata": {},
   "source": [
    "Similarity transform：scale + rotation + translation"
   ]
  },
  {
   "cell_type": "code",
   "execution_count": 83,
   "metadata": {},
   "outputs": [
    {
     "name": "stdout",
     "output_type": "stream",
     "text": [
      "[[   0.4330127     0.25        121.43593539]\n",
      " [  -0.25          0.4330127   216.07695155]]\n"
     ]
    }
   ],
   "source": [
    "M = cv2.getRotationMatrix2D((img.shape[1] / 2, img.shape[0] / 2), 30, 0.5) # center, angle, scale 计算旋转矩阵\n",
    "img_rotate = cv2.warpAffine(img, M, (img.shape[1], img.shape[0]))\n",
    "print(M)  # 前两列与旋转角度有关，最后一列与平移距离有关"
   ]
  },
  {
   "cell_type": "code",
   "execution_count": 84,
   "metadata": {
    "collapsed": true
   },
   "outputs": [],
   "source": [
    "M[0,2] = 0  # 改变平移距离\n",
    "M[1,2] = 0\n",
    "img_rotate2 = cv2.warpAffine(img, M, (img.shape[1], img.shape[0]))"
   ]
  },
  {
   "cell_type": "code",
   "execution_count": 89,
   "metadata": {
    "collapsed": true
   },
   "outputs": [],
   "source": [
    "cv2.imshow('img_rotate', img_rotate)\n",
    "cv2.imshow('img_rotate2', img_rotate2)\n",
    "cv2.waitKey(0)\n",
    "cv2.destroyAllWindows()"
   ]
  },
  {
   "cell_type": "markdown",
   "metadata": {},
   "source": [
    "Affine Transform: 保持图片中的平行线但不保持直角，由不在同一条直线上的三个点可确定一个仿射变换"
   ]
  },
  {
   "cell_type": "code",
   "execution_count": 86,
   "metadata": {},
   "outputs": [
    {
     "name": "stdout",
     "output_type": "stream",
     "text": [
      "[[  7.01095462e-01  -1.33611691e-01   1.28000000e+02]\n",
      " [  7.51173709e-02   8.01670146e-01   4.80000000e+01]]\n"
     ]
    }
   ],
   "source": [
    "# Affine Transform\n",
    "rows, cols, ch = img.shape\n",
    "pts1 = np.float32([[0, 0], [cols - 1, 0], [0, rows - 1]])\n",
    "pts2 = np.float32([[cols * 0.2, rows * 0.1], [cols * 0.9, rows * 0.2], [cols * 0.1, rows * 0.9]])\n",
    " \n",
    "M = cv2.getAffineTransform(pts1, pts2)  # 计算变换矩阵\n",
    "dst = cv2.warpAffine(img, M, (cols, rows))  # 得到变换后的图\n",
    "print(M)"
   ]
  },
  {
   "cell_type": "code",
   "execution_count": 87,
   "metadata": {
    "collapsed": true
   },
   "outputs": [],
   "source": [
    "cv2.imshow('affine img', dst)\n",
    "key = cv2.waitKey(0)\n",
    "cv2.destroyAllWindows()"
   ]
  },
  {
   "attachments": {},
   "cell_type": "markdown",
   "metadata": {},
   "source": [
    "perspective transform: 只保持原图片中的直线，可由四个点（任意三个点不在同一条直线上）确定"
   ]
  },
  {
   "cell_type": "code",
   "execution_count": 90,
   "metadata": {
    "collapsed": true
   },
   "outputs": [],
   "source": [
    "# perspective transform\n",
    "def random_warp(img):\n",
    "    height, width, _ = img.shape\n",
    "\n",
    "    # warp:\n",
    "    random_margin = 60\n",
    "    x1 = random.randint(-random_margin, random_margin)\n",
    "    y1 = random.randint(-random_margin, random_margin)\n",
    "    x2 = random.randint(width - random_margin - 1, width - 1)\n",
    "    y2 = random.randint(-random_margin, random_margin)\n",
    "    x3 = random.randint(width - random_margin - 1, width - 1)\n",
    "    y3 = random.randint(height - random_margin - 1, height - 1)\n",
    "    x4 = random.randint(-random_margin, random_margin)\n",
    "    y4 = random.randint(height - random_margin - 1, height - 1)\n",
    "\n",
    "    dx1 = random.randint(-random_margin, random_margin)\n",
    "    dy1 = random.randint(-random_margin, random_margin)\n",
    "    dx2 = random.randint(width - random_margin - 1, width - 1)\n",
    "    dy2 = random.randint(-random_margin, random_margin)\n",
    "    dx3 = random.randint(width - random_margin - 1, width - 1)\n",
    "    dy3 = random.randint(height - random_margin - 1, height - 1)\n",
    "    dx4 = random.randint(-random_margin, random_margin)\n",
    "    dy4 = random.randint(height - random_margin - 1, height - 1)\n",
    "\n",
    "    pts1 = np.float32([[x1, y1], [x2, y2], [x3, y3], [x4, y4]])\n",
    "    pts2 = np.float32([[dx1, dy1], [dx2, dy2], [dx3, dy3], [dx4, dy4]])\n",
    "    M_warp = cv2.getPerspectiveTransform(pts1, pts2)\n",
    "    img_warp = cv2.warpPerspective(img, M_warp, (width, height))\n",
    "    return M_warp, img_warp"
   ]
  },
  {
   "cell_type": "code",
   "execution_count": 91,
   "metadata": {},
   "outputs": [
    {
     "name": "stdout",
     "output_type": "stream",
     "text": [
      "[[  7.62255937e-01   1.78865842e-01  -5.35396902e+01]\n",
      " [ -1.35638289e-01   9.13814840e-01   4.75020243e+01]\n",
      " [ -5.38352558e-04   2.36142946e-04   1.00000000e+00]]\n"
     ]
    }
   ],
   "source": [
    "M_warp, img_warp = random_warp(img)\n",
    "print(M_warp)"
   ]
  },
  {
   "cell_type": "code",
   "execution_count": 93,
   "metadata": {
    "collapsed": true
   },
   "outputs": [],
   "source": [
    "cv2.imshow('img_warp', img_warp)\n",
    "key = cv2.waitKey(0)\n",
    "cv2.destroyAllWindows()"
   ]
  },
  {
   "cell_type": "code",
   "execution_count": null,
   "metadata": {
    "collapsed": true
   },
   "outputs": [],
   "source": []
  }
 ],
 "metadata": {
  "kernelspec": {
   "display_name": "Python 3",
   "language": "python",
   "name": "python3"
  },
  "language_info": {
   "codemirror_mode": {
    "name": "ipython",
    "version": 3
   },
   "file_extension": ".py",
   "mimetype": "text/x-python",
   "name": "python",
   "nbconvert_exporter": "python",
   "pygments_lexer": "ipython3",
   "version": "3.6.2"
  }
 },
 "nbformat": 4,
 "nbformat_minor": 2
}
