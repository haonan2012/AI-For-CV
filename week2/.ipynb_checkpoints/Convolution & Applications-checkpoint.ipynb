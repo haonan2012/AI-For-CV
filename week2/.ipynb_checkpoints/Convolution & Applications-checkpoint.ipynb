{
 "cells": [
  {
   "cell_type": "code",
   "execution_count": 2,
   "metadata": {
    "collapsed": true
   },
   "outputs": [],
   "source": [
    "import cv2\n",
    "import numpy as np"
   ]
  },
  {
   "cell_type": "code",
   "execution_count": 3,
   "metadata": {
    "collapsed": true
   },
   "outputs": [],
   "source": [
    "img = cv2.imread('1.jpg')\n",
    "cv2.imshow('1',img)\n",
    "cv2.waitKey(0)\n",
    "cv2.destroyAllWindows()"
   ]
  },
  {
   "cell_type": "markdown",
   "metadata": {},
   "source": [
    "# 图像模糊： 均值滤波、中值滤波、高斯滤波、双边滤波"
   ]
  },
  {
   "cell_type": "markdown",
   "metadata": {},
   "source": [
    "图片模糊可用于降低图像噪声；也可用于过滤掉尺寸和亮度较小的物体，使得较大的物体更易于检测\n",
    "\n",
    "线性滤波：均值滤波、高斯滤波\n",
    "\n",
    "非线性滤波：中值滤波、双边滤波"
   ]
  },
  {
   "cell_type": "code",
   "execution_count": 4,
   "metadata": {
    "collapsed": true
   },
   "outputs": [],
   "source": [
    "# 在图片中添加 1%的椒盐噪声\n",
    "row, column, channel = img.shape\n",
    "noise_salt = np.random.rand(row, column, channel)\n",
    "percent = 0.01\n",
    "noise_salt = np.where(noise_salt < percent, 255, 0)\n",
    "\n",
    "salt = img.astype(\"float\") + noise_salt.astype(\"float\")\n",
    "salt = np.where(salt > 255, 255, salt)\n",
    "\n",
    "salt = salt.astype(\"uint8\")\n",
    "cv2.imshow('img',img)\n",
    "cv2.imshow('salt',salt)\n",
    "cv2.waitKey(0)\n",
    "cv2.destroyAllWindows()"
   ]
  },
  {
   "cell_type": "code",
   "execution_count": 5,
   "metadata": {
    "collapsed": true
   },
   "outputs": [],
   "source": [
    "mean_blur = cv2.blur(salt, (3, 3))  # 均值滤波\n",
    "median_blur = cv2.medianBlur(salt, 3)  # 中值滤波，中值滤波对椒盐噪声具有更好的去噪效果\n",
    "cv2.imshow('salt',salt)\n",
    "cv2.imshow('mean_blur',mean_blur)\n",
    "cv2.imshow('median_blur',median_blur)\n",
    "cv2.waitKey(0)\n",
    "cv2.destroyAllWindows()"
   ]
  },
  {
   "cell_type": "markdown",
   "metadata": {},
   "source": [
    "高斯滤波是一种线性低通滤波，适用于消除高斯噪声"
   ]
  },
  {
   "cell_type": "code",
   "execution_count": 7,
   "metadata": {},
   "outputs": [],
   "source": [
    "# Gaussian Kernel Effect\n",
    "g_img = cv2.GaussianBlur(img, (7, 7), 5)\n",
    "cv2.imshow('g1',g_img)\n",
    "cv2.waitKey(0)\n",
    "cv2.destroyAllWindows()"
   ]
  },
  {
   "cell_type": "code",
   "execution_count": 10,
   "metadata": {},
   "outputs": [
    {
     "name": "stdout",
     "output_type": "stream",
     "text": [
      "[[ 0.12895603]\n",
      " [ 0.14251846]\n",
      " [ 0.15133131]\n",
      " [ 0.1543884 ]\n",
      " [ 0.15133131]\n",
      " [ 0.14251846]\n",
      " [ 0.12895603]]\n"
     ]
    }
   ],
   "source": [
    "# 高斯卷积核\n",
    "kernel = cv2.getGaussianKernel(7, 5)   # 7: size, 5: variance\n",
    "print(kernel)"
   ]
  },
  {
   "cell_type": "code",
   "execution_count": 116,
   "metadata": {
    "collapsed": true
   },
   "outputs": [],
   "source": [
    "# 二维高斯卷积的计算可分解成 x 方向和 y 方向的两次卷积运算，可以减小运算量\n",
    "g2_img = cv2.sepFilter2D(img, -1, kernel, kernel)\n",
    "cv2.imshow('g2_img', g2_img)\n",
    "cv2.waitKey(0)\n",
    "cv2.destroyAllWindows()"
   ]
  },
  {
   "cell_type": "code",
   "execution_count": 8,
   "metadata": {
    "collapsed": true
   },
   "outputs": [],
   "source": [
    "# 在图片中添加高斯噪声\n",
    "mu, sigma = 0, 20  # mu, sigma分布为高斯分布的均值和标准差\n",
    "noise_img = img + np.random.randn(*img.shape) * sigma + mu  # mu, sigma分布为高斯分布的均值和方差\n",
    "noise_img[noise_img > 255] = 255\n",
    "noise_img[noise_img < 0] = 0\n",
    "noise_img = noise_img.astype(\"uint8\")\n",
    "\n",
    "cv2.imshow('img',img)\n",
    "cv2.imshow('noise_img',noise_img)\n",
    "cv2.waitKey(0)\n",
    "cv2.destroyAllWindows()"
   ]
  },
  {
   "cell_type": "code",
   "execution_count": 9,
   "metadata": {},
   "outputs": [],
   "source": [
    "# 三种滤波方式对高斯噪声的效果\n",
    "g1_img = cv2.GaussianBlur(noise_img, (3, 3), 2)\n",
    "mean_blur = cv2.blur(noise_img, (3, 3))  # 均值滤波\n",
    "median_blur = cv2.medianBlur(noise_img, 3) \n",
    "cv2.imshow('noise_img',noise_img)\n",
    "cv2.imshow('g1',g_img)\n",
    "cv2.imshow('mean_blur',mean_blur)\n",
    "cv2.imshow('median_blur',median_blur)\n",
    "\n",
    "cv2.waitKey(0)\n",
    "cv2.destroyAllWindows()"
   ]
  },
  {
   "cell_type": "markdown",
   "metadata": {},
   "source": [
    "高斯滤波去噪会较明显地模糊边缘，对高频细节的破坏较严重。双边滤波是结合图像的空间邻近度和像素值相似度的一种折衷处理，同时考虑空域信息和灰度相似性，达到保边去噪的目的。权重系数取决于定义域核和值域核的乘积"
   ]
  },
  {
   "cell_type": "code",
   "execution_count": 14,
   "metadata": {
    "collapsed": true
   },
   "outputs": [],
   "source": [
    "# cv2.bilateralFilter(src, d, sigmaColor, sigmaSpace[, dst[, borderType]]) → dst\n",
    "dst = cv2.bilateralFilter(noise_img, 25, 25*2, 25.0/2)\n",
    "cv2.imshow('noise_img',noise_img)\n",
    "cv2.imshow('bilateralFilter',dst)\n",
    "cv2.waitKey(0)\n",
    "cv2.destroyAllWindows()"
   ]
  },
  {
   "cell_type": "markdown",
   "metadata": {},
   "source": [
    "# 图像梯度：一阶导和二阶导\n",
    "\n",
    "一阶微分算子有 Robert、prewitt、Sobel等，二阶微分算子Laplacian"
   ]
  },
  {
   "cell_type": "markdown",
   "metadata": {
    "collapsed": true
   },
   "source": [
    "Sobel算子是高斯平滑与微分操作的结合体, 同二维高斯卷积一样，Sobel算子的计算可分解为先将图像横向或纵向平滑，然后再纵向或横向差分。\n",
    "\n",
    "x方向的sobel算子为 [[-1, 0, 1], [-2, 0, 2], [-1, 0, 1]], 可分解为先进行纵向平滑 [[1], [2], [1]]，再进行横向差分 [[-1, 0, 1]]\n",
    "\n",
    "y方向的sobel算子为 [[-1, -2, -1], [0, 0, 0], [1, 2, 1]], 可分解为先进行横向平滑 [[1， 2, 1]]，再进行横向差分 [[-1], [0], [1]]"
   ]
  },
  {
   "cell_type": "code",
   "execution_count": 29,
   "metadata": {
    "collapsed": true
   },
   "outputs": [],
   "source": [
    "img_gray = cv2.imread('1.jpg', 0)\n",
    "cv2.imshow('1',img_gray)\n",
    "cv2.waitKey(0)\n",
    "cv2.destroyAllWindows()"
   ]
  },
  {
   "cell_type": "code",
   "execution_count": 77,
   "metadata": {
    "collapsed": true
   },
   "outputs": [],
   "source": [
    "grad_x = cv2.Sobel(img_gray, cv2.CV_16S, 1, 0, ksize=3)   #对x方向求一阶导, 返回结果矩阵的深度为16位有符号\n",
    "absX = cv2.convertScaleAbs(grad_x)  #用convertScaleAbs()函数将其转回原来的uint8形式\n",
    "cv2.imshow('grad_x',absX)\n",
    "cv2.waitKey(0)\n",
    "cv2.destroyAllWindows()"
   ]
  },
  {
   "cell_type": "code",
   "execution_count": 78,
   "metadata": {
    "collapsed": true
   },
   "outputs": [],
   "source": [
    "grad_y = cv2.Sobel(img_gray, cv2.CV_16S, 0, 1, ksize=3)   #对y方向求一阶导, 返回结果矩阵的深度为16位有符号\n",
    "absY = cv2.convertScaleAbs(grad_y)  #用convertScaleAbs()函数将其转回原来的uint8形式\n",
    "cv2.imshow('grad_x',absX)\n",
    "cv2.imshow('grad_y',absY)\n",
    "cv2.waitKey(0)\n",
    "cv2.destroyAllWindows()"
   ]
  },
  {
   "cell_type": "code",
   "execution_count": 107,
   "metadata": {
    "collapsed": true
   },
   "outputs": [],
   "source": [
    "# 结合x方向和y方向的结果，采用均方和更为精确，为节省计算量通常采用绝对值相加来近似\n",
    "# 一般不能使用 cv2.Sobel(img_gray, cv2.CV_32F, 1, 1) 同时计算x和y方向的导数 （原因还不清楚）\n",
    "sobel = cv2.addWeighted(absX,0.5,absY,0.5,0)\n",
    "cv2.imshow('ori',img_gray)\n",
    "cv2.imshow('sobel',sobel)\n",
    "cv2.waitKey(0)\n",
    "cv2.destroyAllWindows()"
   ]
  },
  {
   "cell_type": "code",
   "execution_count": 113,
   "metadata": {
    "collapsed": true
   },
   "outputs": [],
   "source": [
    "# sobel算子进行图像锐化\n",
    "sharp = cv2.add(img_gray, sobel)  # 结果为 uint8 类型\n",
    "cv2.imshow('sharp',sharp)\n",
    "cv2.waitKey(0)\n",
    "cv2.destroyAllWindows()"
   ]
  },
  {
   "cell_type": "markdown",
   "metadata": {},
   "source": [
    "2nd derivative：Laplacian算子 f(x+1,y)+f(x−1,y)+f(x,y+1)+f(x,y−1)−4f(x,y)\n",
    "\n",
    "Laplacian算子会在像素变化大的地方产生双边缘，且2个边缘的二阶导数值符号相反\n",
    "\n",
    "二阶导数比一阶导数获得的物体边界更加细致，但是，二阶导数对噪声点也更加敏感，会放大噪声的影响"
   ]
  },
  {
   "cell_type": "code",
   "execution_count": 125,
   "metadata": {
    "collapsed": true
   },
   "outputs": [],
   "source": [
    "dst = cv2.Laplacian(img_gray, cv2.CV_32F)\n",
    "lpls = cv2.convertScaleAbs(dst)\n",
    "cv2.imshow('ori',img_gray)\n",
    "cv2.imshow('lpls',lpls)\n",
    "cv2.waitKey(0)\n",
    "cv2.destroyAllWindows()"
   ]
  },
  {
   "cell_type": "code",
   "execution_count": 127,
   "metadata": {
    "collapsed": true
   },
   "outputs": [],
   "source": [
    "# 等效方式\n",
    "kernel_lap = np.array([[0,1,0],[1,-4,1],[0,1,0]], np.float32)\n",
    "lap_img = cv2.filter2D(img_gray, cv2.CV_32F, kernel = kernel_lap)\n",
    "lap_img = cv2.convertScaleAbs(lap_img)\n",
    "cv2.imshow('ori',img_gray)\n",
    "cv2.imshow('lap_img',lap_img)\n",
    "cv2.waitKey(0)\n",
    "cv2.destroyAllWindows()"
   ]
  },
  {
   "cell_type": "code",
   "execution_count": 115,
   "metadata": {
    "collapsed": true
   },
   "outputs": [],
   "source": [
    "# Laplacian算子进行图像锐化\n",
    "sharp = img_gray - dst\n",
    "sharp = np.where(sharp < 0, 0, np.where(sharp > 255, 255, sharp))\n",
    "sharp = sharp.astype(\"uint8\")"
   ]
  },
  {
   "cell_type": "code",
   "execution_count": 116,
   "metadata": {
    "collapsed": true
   },
   "outputs": [],
   "source": [
    "cv2.imshow('ori',img_gray)\n",
    "cv2.imshow('sharp',sharp)\n",
    "cv2.waitKey(0)\n",
    "cv2.destroyAllWindows()"
   ]
  },
  {
   "cell_type": "code",
   "execution_count": 99,
   "metadata": {},
   "outputs": [
    {
     "data": {
      "text/plain": [
       "array([[   6.,    6.,    6., ...,    6.,    6.,    6.],\n",
       "       [   6.,    6.,    6., ...,    6.,    6.,    6.],\n",
       "       [   5.,    5.,    5., ...,    6.,    6.,    6.],\n",
       "       ..., \n",
       "       [ 135.,   65.,   81., ...,   90.,   90.,   90.],\n",
       "       [ 141.,   69.,   80., ...,   90.,   90.,   90.],\n",
       "       [ 145.,   68.,   76., ...,   90.,   90.,   90.]], dtype=float32)"
      ]
     },
     "execution_count": 99,
     "metadata": {},
     "output_type": "execute_result"
    }
   ],
   "source": [
    "sharp"
   ]
  }
 ],
 "metadata": {
  "kernelspec": {
   "display_name": "Python 3",
   "language": "python",
   "name": "python3"
  },
  "language_info": {
   "codemirror_mode": {
    "name": "ipython",
    "version": 3
   },
   "file_extension": ".py",
   "mimetype": "text/x-python",
   "name": "python",
   "nbconvert_exporter": "python",
   "pygments_lexer": "ipython3",
   "version": "3.6.2"
  }
 },
 "nbformat": 4,
 "nbformat_minor": 2
}
