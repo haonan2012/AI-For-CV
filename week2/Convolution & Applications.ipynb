{
 "cells": [
  {
   "cell_type": "code",
   "execution_count": 16,
   "metadata": {
    "collapsed": true
   },
   "outputs": [],
   "source": [
    "import cv2\n",
    "import numpy as np"
   ]
  },
  {
   "cell_type": "code",
   "execution_count": 94,
   "metadata": {
    "collapsed": true
   },
   "outputs": [],
   "source": [
    "img = cv2.imread('1.jpg')\n",
    "cv2.imshow('1',img)\n",
    "cv2.waitKey(0)\n",
    "cv2.destroyAllWindows()"
   ]
  },
  {
   "cell_type": "markdown",
   "metadata": {},
   "source": [
    "# 图像模糊： 均值滤波、中值滤波、高斯滤波"
   ]
  },
  {
   "cell_type": "markdown",
   "metadata": {},
   "source": [
    "图片模糊可用于降低图像噪声；也可用于过滤掉尺寸和亮度较小的物体，使得较大的物体更易于检测"
   ]
  },
  {
   "cell_type": "code",
   "execution_count": 132,
   "metadata": {
    "collapsed": true
   },
   "outputs": [],
   "source": [
    "# 在图片中添加 1%的椒盐噪声\n",
    "row, column, channel = img.shape\n",
    "noise_salt = np.random.rand(row, column, channel)\n",
    "percent = 0.01\n",
    "noise_salt = np.where(noise_salt < percent, 255, 0)\n",
    "\n",
    "salt = img.astype(\"float\") + noise_salt.astype(\"float\")\n",
    "salt = np.where(salt > 255, 255, salt)\n",
    "\n",
    "salt = salt.astype(\"uint8\")\n",
    "cv2.imshow('img',img)\n",
    "cv2.imshow('salt',salt)\n",
    "cv2.waitKey(0)\n",
    "cv2.destroyAllWindows()"
   ]
  },
  {
   "cell_type": "code",
   "execution_count": 133,
   "metadata": {
    "collapsed": true
   },
   "outputs": [],
   "source": [
    "mean_blur = cv2.blur(salt, (3, 3))  # 均值滤波\n",
    "median_blur = cv2.medianBlur(salt, 3)  # 中值滤波，中值滤波对椒盐噪声具有更好的去噪效果\n",
    "cv2.imshow('salt',salt)\n",
    "cv2.imshow('mean_blur',mean_blur)\n",
    "cv2.imshow('median_blur',median_blur)\n",
    "cv2.waitKey(0)\n",
    "cv2.destroyAllWindows()"
   ]
  },
  {
   "cell_type": "markdown",
   "metadata": {},
   "source": [
    "高斯滤波是一种线性平滑滤波，适用于消除高斯噪声"
   ]
  },
  {
   "cell_type": "code",
   "execution_count": 134,
   "metadata": {
    "collapsed": true
   },
   "outputs": [],
   "source": [
    "# Gaussian Kernel Effect\n",
    "g1_img = cv2.GaussianBlur(img, (7, 7), 5)\n",
    "cv2.imshow('g1',g_img)\n",
    "cv2.waitKey(0)\n",
    "cv2.destroyAllWindows()"
   ]
  },
  {
   "cell_type": "code",
   "execution_count": 10,
   "metadata": {},
   "outputs": [
    {
     "name": "stdout",
     "output_type": "stream",
     "text": [
      "[[ 0.12895603]\n",
      " [ 0.14251846]\n",
      " [ 0.15133131]\n",
      " [ 0.1543884 ]\n",
      " [ 0.15133131]\n",
      " [ 0.14251846]\n",
      " [ 0.12895603]]\n"
     ]
    }
   ],
   "source": [
    "# 高斯卷积核\n",
    "kernel = cv2.getGaussianKernel(7, 5)   # 7: size, 5: variance\n",
    "print(kernel)"
   ]
  },
  {
   "cell_type": "code",
   "execution_count": 116,
   "metadata": {
    "collapsed": true
   },
   "outputs": [],
   "source": [
    "# 二维高斯卷积的计算可分解成 x 方向和 y 方向的两次卷积运算，可以减小运算量\n",
    "g2_img = cv2.sepFilter2D(img, -1, kernel, kernel)\n",
    "cv2.imshow('g2_img', g2_img)\n",
    "cv2.waitKey(0)\n",
    "cv2.destroyAllWindows()"
   ]
  },
  {
   "cell_type": "code",
   "execution_count": 122,
   "metadata": {
    "collapsed": true
   },
   "outputs": [],
   "source": [
    "# 在图片中添加高斯噪声\n",
    "mu, sigma = 0, 20  # mu, sigma分布为高斯分布的均值和标准差\n",
    "noise_img = img + np.random.randn(*img.shape) * sigma + mu  # mu, sigma分布为高斯分布的均值和方差\n",
    "noise_img[noise_img > 255] = 255\n",
    "noise_img[noise_img < 0] = 0\n",
    "noise_img = noise_img.astype(\"uint8\")\n",
    "\n",
    "cv2.imshow('img',img)\n",
    "cv2.imshow('noise_img',noise_img)\n",
    "cv2.waitKey(0)\n",
    "cv2.destroyAllWindows()"
   ]
  },
  {
   "cell_type": "code",
   "execution_count": 137,
   "metadata": {
    "collapsed": true
   },
   "outputs": [],
   "source": [
    "# 三种滤波方式对高斯噪声的效果\n",
    "g1_img = cv2.GaussianBlur(noise_img, (3, 3), 2)\n",
    "mean_blur = cv2.blur(noise_img, (3, 3))  # 均值滤波\n",
    "median_blur = cv2.medianBlur(noise_img, 3) \n",
    "cv2.imshow('noise_img',noise_img)\n",
    "cv2.imshow('g1',g_img)\n",
    "cv2.imshow('mean_blur',mean_blur)\n",
    "cv2.imshow('median_blur',median_blur)\n",
    "\n",
    "cv2.waitKey(0)\n",
    "cv2.destroyAllWindows()"
   ]
  },
  {
   "cell_type": "markdown",
   "metadata": {},
   "source": [
    "# 图像梯度：边缘检测\n",
    "\n",
    "常用的梯度算子有，通常用于边缘检测、图像增强"
   ]
  },
  {
   "cell_type": "code",
   "execution_count": null,
   "metadata": {
    "collapsed": true
   },
   "outputs": [],
   "source": []
  },
  {
   "cell_type": "code",
   "execution_count": 18,
   "metadata": {},
   "outputs": [
    {
     "name": "stdout",
     "output_type": "stream",
     "text": [
      "[[ 0.  1.  0.]\n",
      " [ 1. -4.  1.]\n",
      " [ 0.  1.  0.]]\n"
     ]
    }
   ],
   "source": [
    "# 2nd derivative: laplacian\n",
    "kernel_lap = np.array([[0,1,0],[1,-4,1],[0,1,0]], np.float32)\n",
    "print(kernel_lap)"
   ]
  },
  {
   "cell_type": "code",
   "execution_count": 64,
   "metadata": {
    "collapsed": true
   },
   "outputs": [],
   "source": [
    "lap_img = cv2.filter2D(img, -1, kernel = kernel_lap)\n",
    "cv2.imshow('lap_img', lap_img)\n",
    "cv2.waitKey(0)\n",
    "cv2.destroyAllWindows()"
   ]
  },
  {
   "cell_type": "code",
   "execution_count": 65,
   "metadata": {},
   "outputs": [
    {
     "name": "stdout",
     "output_type": "stream",
     "text": [
      "[[3 1 8 0 7 8 3 3 9 0]\n",
      " [6 0 4 0 8 4 9 0 2 1]\n",
      " [6 0 7 1 0 9 5 6 5 8]\n",
      " [6 4 3 4 9 8 8 8 3 8]\n",
      " [0 9 5 9 8 9 6 1 6 5]\n",
      " [0 6 1 6 9 8 2 2 2 9]\n",
      " [9 9 1 8 7 3 3 4 8 0]\n",
      " [1 2 9 0 9 9 3 2 9 6]\n",
      " [8 1 1 5 6 6 7 3 6 6]\n",
      " [9 5 0 8 8 0 4 1 3 5]]\n"
     ]
    }
   ],
   "source": [
    "img1 = np.random.randint(0, 10, (10,10), np.uint8)\n",
    "print(img1)\n",
    "cv2.imshow('1',img1)\n",
    "cv2.waitKey(0)\n",
    "cv2.destroyAllWindows()"
   ]
  },
  {
   "cell_type": "code",
   "execution_count": 91,
   "metadata": {},
   "outputs": [
    {
     "name": "stdout",
     "output_type": "stream",
     "text": [
      "<class 'float'>\n"
     ]
    }
   ],
   "source": [
    "b = np.array([1,2,4], np.uint8)\n",
    "a = np.array([3],np.float32)\n",
    "c = 3.1\n",
    "print(type(c))\n"
   ]
  },
  {
   "cell_type": "code",
   "execution_count": null,
   "metadata": {
    "collapsed": true
   },
   "outputs": [],
   "source": []
  }
 ],
 "metadata": {
  "kernelspec": {
   "display_name": "Python 3",
   "language": "python",
   "name": "python3"
  },
  "language_info": {
   "codemirror_mode": {
    "name": "ipython",
    "version": 3
   },
   "file_extension": ".py",
   "mimetype": "text/x-python",
   "name": "python",
   "nbconvert_exporter": "python",
   "pygments_lexer": "ipython3",
   "version": "3.6.2"
  }
 },
 "nbformat": 4,
 "nbformat_minor": 2
}
